{
 "cells": [
  {
   "cell_type": "markdown",
   "id": "abe07ba3",
   "metadata": {},
   "source": [
    "# Análise do Dataset Breast Cancer Wisconsin\n",
    "\n",
    "Neste notebook, eu documentei o ciclo de vida de um modelo de Machine Learning utilizando o dataset Breast Cancer Wisconsin. Meu objetivo foi construir e avaliar modelos de classificação e regressão, além de realizar análises exploratórias e estatísticas."
   ]
  },
  {
   "cell_type": "markdown",
   "id": "5703cbbe",
   "metadata": {},
   "source": [
    "## Carregamento e Análise Exploratória dos Dados\n",
    "\n",
    "Carregamos o dataset Breast Cancer Wisconsin e realizamos uma análise exploratória inicial."
   ]
  },
  {
   "cell_type": "markdown",
   "id": "4c78d79a",
   "metadata": {},
   "source": [
    "## Importação de Bibliotecas\n",
    "\n",
    "Nesta seção, importo as bibliotecas necessárias para o projeto."
   ]
  },
  {
   "cell_type": "code",
   "execution_count": null,
   "id": "e03058fc",
   "metadata": {},
   "outputs": [],
   "source": [
    "def load_data():\n",
    "    data = load_breast_cancer()\n",
    "    X = pd.DataFrame(data.data, columns=data.feature_names)\n",
    "    y = pd.Series(data.target, name='target')\n",
    "    return X, y\n",
    "\n",
    "def exploratory_analysis(X):\n",
    "    print(X.info())\n",
    "    print(X.describe())\n",
    "\n",
    "X, y = load_data()\n",
    "exploratory_analysis(X)"
   ]
  },
  {
   "cell_type": "code",
   "execution_count": null,
   "id": "15e3f967",
   "metadata": {},
   "outputs": [],
   "source": [
    "import pandas as pd\n",
    "import numpy as np\n",
    "from sklearn.model_selection import train_test_split\n",
    "from sklearn.preprocessing import StandardScaler\n",
    "from sklearn.datasets import load_breast_cancer, make_classification\n",
    "from sklearn.neighbors import KNeighborsClassifier\n",
    "from sklearn.metrics import accuracy_score, confusion_matrix, ConfusionMatrixDisplay, r2_score\n",
    "import matplotlib.pyplot as plt\n",
    "from sklearn.linear_model import LinearRegression\n",
    "from sklearn.ensemble import RandomForestClassifier\n",
    "from scipy.stats import skew, kurtosis"
   ]
  },
  {
   "cell_type": "markdown",
   "id": "2e80f5c2",
   "metadata": {},
   "source": [
    "## Pré-processamento dos Dados\n",
    "\n",
    "Nesta etapa, dividimos os dados em treino e teste e aplicamos normalização."
   ]
  },
  {
   "cell_type": "code",
   "execution_count": null,
   "id": "bf23cdbc",
   "metadata": {},
   "outputs": [],
   "source": [
    "def split_and_scale(X, y, test_size=0.2, random_state=42):\n",
    "    X_train, X_test, y_train, y_test = train_test_split(X, y, test_size=test_size, random_state=random_state)\n",
    "    scaler = StandardScaler()\n",
    "    X_train_scaled = scaler.fit_transform(X_train)\n",
    "    X_test_scaled = scaler.transform(X_test)\n",
    "    return X_train_scaled, X_test_scaled, y_train, y_test\n",
    "\n",
    "X_train, X_test, y_train, y_test = split_and_scale(X, y)"
   ]
  },
  {
   "cell_type": "markdown",
   "id": "10ebf4a7",
   "metadata": {},
   "source": [
    "## Treinamento e Avaliação do Modelo KNN\n",
    "\n",
    "Treinamos um modelo K-Nearest Neighbors (KNN) e avaliamos sua performance."
   ]
  },
  {
   "cell_type": "code",
   "execution_count": null,
   "id": "ec187102",
   "metadata": {},
   "outputs": [],
   "source": [
    "def train_knn(X_train, y_train, n_neighbors=5):\n",
    "    knn = KNeighborsClassifier(n_neighbors=n_neighbors)\n",
    "    knn.fit(X_train, y_train)\n",
    "    return knn\n",
    "\n",
    "def evaluate_knn(knn, X_test, y_test):\n",
    "    y_pred = knn.predict(X_test)\n",
    "    accuracy = accuracy_score(y_test, y_pred)\n",
    "    print(f'Acurácia do modelo KNN: {accuracy:.2f}')\n",
    "    cm = confusion_matrix(y_test, y_pred)\n",
    "    disp = ConfusionMatrixDisplay(confusion_matrix=cm, display_labels=['Benigno', 'Maligno'])\n",
    "    disp.plot(cmap=plt.cm.Purples)\n",
    "    plt.savefig(\"Acurácia_do_modelo_KNN.png\")\n",
    "    return accuracy\n",
    "\n",
    "knn = train_knn(X_train, y_train)\n",
    "evaluate_knn(knn, X_test, y_test)"
   ]
  },
  {
   "cell_type": "markdown",
   "id": "57f9872c",
   "metadata": {},
   "source": [
    "## Geração de Dados Sintéticos\n",
    "\n",
    "Geramos dados sintéticos com ruído para expandir o dataset de treino."
   ]
  },
  {
   "cell_type": "code",
   "execution_count": null,
   "id": "2be9acb7",
   "metadata": {},
   "outputs": [],
   "source": [
    "def generate_synthetic_data(n_samples, n_features, n_informative, n_redundant, random_state=42):\n",
    "    X_synthetic, y_synthetic = make_classification(\n",
    "        n_samples=n_samples,\n",
    "        n_features=n_features,\n",
    "        n_informative=n_informative,\n",
    "        n_redundant=n_redundant,\n",
    "        random_state=random_state\n",
    "    )\n",
    "    noise = np.random.normal(0, 0.1, X_synthetic.shape)\n",
    "    X_synthetic_noisy = X_synthetic + noise\n",
    "    return X_synthetic_noisy, y_synthetic\n",
    "\n",
    "X_synthetic, y_synthetic = generate_synthetic_data(\n",
    "    n_samples=200,\n",
    "    n_features=X.shape[1],\n",
    "    n_informative=10,\n",
    "    n_redundant=5\n",
    ")"
   ]
  },
  {
   "cell_type": "markdown",
   "id": "b33bccca",
   "metadata": {},
   "source": [
    "## Análise da Performance do Modelo Variando o Parâmetro K\n",
    "\n",
    "Nesta seção, avaliamos o impacto da variação do número de vizinhos (K) na performance do modelo KNN."
   ]
  },
  {
   "cell_type": "code",
   "execution_count": null,
   "id": "b32c9d52",
   "metadata": {},
   "outputs": [],
   "source": [
    "def plot_k_accuracies(X_train, y_train, X_test, y_test, k_range=range(1, 21)):\n",
    "    accuracies = []\n",
    "    for k in k_range:\n",
    "        knn = KNeighborsClassifier(n_neighbors=k)\n",
    "        knn.fit(X_train, y_train)\n",
    "        y_pred = knn.predict(X_test)\n",
    "        accuracies.append(accuracy_score(y_test, y_pred))\n",
    "    plt.figure(figsize=(10, 6))\n",
    "    plt.plot(k_range, accuracies, marker='o')\n",
    "    plt.title('Acurácia do Modelo KNN para Diferentes Valores de K')\n",
    "    plt.xlabel('Número de Vizinhos (K)')\n",
    "    plt.ylabel('Acurácia')\n",
    "    plt.grid()\n",
    "    plt.savefig('grafico_knn.png')\n",
    "\n",
    "plot_k_accuracies(X_train, y_train, X_test, y_test)"
   ]
  },
  {
   "cell_type": "markdown",
   "id": "c022420a",
   "metadata": {},
   "source": [
    "## Construção e Avaliação de um Modelo de Regressão Linear\n",
    "\n",
    "Nesta seção, treinamos um modelo de Regressão Linear para prever a área média do tumor e avaliamos sua performance."
   ]
  },
  {
   "cell_type": "code",
   "execution_count": null,
   "id": "e710f7d9",
   "metadata": {},
   "outputs": [],
   "source": [
    "def linear_regression_analysis(X, target_col='mean area'):\n",
    "    X_reg = X.drop(columns=[target_col])\n",
    "    y_reg = X[target_col]\n",
    "    X_train_reg, X_test_reg, y_train_reg, y_test_reg = train_test_split(X_reg, y_reg, test_size=0.2, random_state=42)\n",
    "    reg = LinearRegression()\n",
    "    reg.fit(X_train_reg, y_train_reg)\n",
    "    y_pred_reg = reg.predict(X_test_reg)\n",
    "    r2 = r2_score(y_test_reg, y_pred_reg)\n",
    "    print(f'Coeficiente de Determinação (R²): {r2:.2f}')\n",
    "    residuos = y_test_reg - y_pred_reg\n",
    "    plt.figure(figsize=(10, 6))\n",
    "    plt.scatter(y_test_reg, residuos, alpha=0.7)\n",
    "    plt.axhline(0, color='green', linestyle='--')\n",
    "    plt.title('Resíduos vs Valores Reais')\n",
    "    plt.xlabel('Valores Reais')\n",
    "    plt.ylabel('Resíduos')\n",
    "    plt.grid()\n",
    "    plt.savefig('Coeficiente_de_determinacao.png')\n",
    "    plt.figure(figsize=(10, 6))\n",
    "    plt.hist(residuos, bins=20, alpha=0.7, color='purple')\n",
    "    plt.title('Distribuição dos Resíduos')\n",
    "    plt.xlabel('Resíduos')\n",
    "    plt.ylabel('Frequência')\n",
    "    plt.grid()\n",
    "    plt.savefig('histograma_residuos.png')\n",
    "\n",
    "linear_regression_analysis(X, target_col='mean area')"
   ]
  },
  {
   "cell_type": "markdown",
   "id": "c8a921f5",
   "metadata": {},
   "source": [
    "## Análise de Importância dos Atributos\n",
    "\n",
    "Nesta seção, identificamos os atributos mais relevantes para a classificação utilizando Random Forest."
   ]
  },
  {
   "cell_type": "code",
   "execution_count": null,
   "id": "0c07a101",
   "metadata": {},
   "outputs": [],
   "source": [
    "def feature_importance_analysis(X, y):\n",
    "    importances = RandomForestClassifier(random_state=42).fit(X, y).feature_importances_\n",
    "    feature_importance = pd.DataFrame({'Feature': X.columns, 'Importance': importances})\n",
    "    feature_importance = feature_importance.sort_values(by='Importance', ascending=False)\n",
    "    print(\"Importância dos Atributos:\")\n",
    "    print(feature_importance)\n",
    "    return feature_importance\n",
    "\n",
    "feature_importance_analysis(X, y)"
   ]
  }
 ],
 "metadata": {
  "language_info": {
   "name": "python"
  }
 },
 "nbformat": 4,
 "nbformat_minor": 5
}
